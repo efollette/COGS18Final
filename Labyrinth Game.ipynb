{
 "cells": [
  {
   "cell_type": "markdown",
   "metadata": {},
   "source": [
    "# Tlaloc's Tomb\n",
    "### By Erik Follette\n",
    "\n",
    "This project is a dictionary based text adventure game that will task the player with navigating a maze using only the power of words!"
   ]
  },
  {
   "cell_type": "markdown",
   "metadata": {},
   "source": [
    "# Setup\n",
    "- Import the game and room classes\n",
    "- Import the files that contain the rooms for the actual game and the test game. "
   ]
  },
  {
   "cell_type": "code",
   "execution_count": null,
   "metadata": {},
   "outputs": [],
   "source": [
    "from adventureGame import adventureGame as g\n",
    "from adventureGame import testGame as tg\n",
    "from adventureGame import tlalocsTomb as tt"
   ]
  },
  {
   "cell_type": "markdown",
   "metadata": {},
   "source": [
    "# Test Game\n",
    "\n",
    "This game is meant to test the functions of the base game which include:\n",
    "- Room navigation\n",
    "- Player death\n",
    "- Player victory\n",
    "- Exiting the game\n",
    "\n",
    "The layout of the test maze is as follows:\n",
    "\n",
    " ------------ |   Temple  ----- | ------------------   \n",
    " \n",
    "Bedroom | Start Room | Torture Room  ------------- North is ^\n",
    "\n",
    "- Going to the torture room which is **East** of the start room, will test Player death. To test it out, run the game and go **East**.\n",
    "- Going to the temple which is **North** of the start room, will test Player victory. To test it out, run the game and go **North**.\n",
    "- Going to the bedroom which is **West** of the start room, will test Player navigation that doesn't result in vicotry or death. To test it out, run the game and go **West**.\n",
    "- To test invalid navigation, run the game and go **South**, the game will tell the Player that they cannot do that and then they will be prompted to pick another direction."
   ]
  },
  {
   "cell_type": "code",
   "execution_count": null,
   "metadata": {},
   "outputs": [],
   "source": [
    "# Load up the rooms for the test game\n",
    "testGame = g.AdventureGame(tg.testRooms, tg.starting_room)\n",
    "# Play the test game\n",
    "testGame.play_game()"
   ]
  },
  {
   "cell_type": "markdown",
   "metadata": {},
   "source": [
    "# Tlāloc's Tomb\n",
    "#### A Text Adventure Game by Erik Follette\n",
    "In this game, you play the part of an adventurer seeking the legendary **Tears of Tlāloc**, a fountain from which the tears of the Aztec God of Rain flow, offering whoever drinks them eternal life and wisdom. However, this treasure is not easily attained for it lies in Tlāloc's Tomb, a labyrinth constructed by the god to ensure only those whoare truly worthy of his power could receive it.\n",
    "\n",
    "**Do you have what it takes to navigate the labyrinth and achieve eternal life?**\n",
    "\n",
    "Run the cell below to find out!"
   ]
  },
  {
   "cell_type": "code",
   "execution_count": null,
   "metadata": {},
   "outputs": [],
   "source": [
    "# Load up the rooms for the game\n",
    "tlalocsTomb = g.AdventureGame(tt.tlalocsTombRooms, tt.starting_room)\n",
    "# Play the game\n",
    "tlalocsTomb.play_game()"
   ]
  },
  {
   "cell_type": "markdown",
   "metadata": {},
   "source": [
    "I hope you enjoyed playing this game!\n",
    "\n",
    "#### - Erik Follette"
   ]
  }
 ],
 "metadata": {
  "kernelspec": {
   "display_name": "Python 3",
   "language": "python",
   "name": "python3"
  },
  "language_info": {
   "codemirror_mode": {
    "name": "ipython",
    "version": 3
   },
   "file_extension": ".py",
   "mimetype": "text/x-python",
   "name": "python",
   "nbconvert_exporter": "python",
   "pygments_lexer": "ipython3",
   "version": "3.6.7"
  }
 },
 "nbformat": 4,
 "nbformat_minor": 2
}
